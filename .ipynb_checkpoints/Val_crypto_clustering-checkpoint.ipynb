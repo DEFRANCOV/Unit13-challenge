{
 "cells": [
  {
   "cell_type": "markdown",
   "metadata": {},
   "source": [
    "# Clustering Crypto"
   ]
  },
  {
   "cell_type": "code",
   "execution_count": null,
   "metadata": {},
   "outputs": [],
   "source": [
    "#%%capture\n",
    "# Initial imports\n",
    "import requests\n",
    "import pandas as pd\n",
    "import matplotlib.pyplot as plt\n",
    "import plotly.express as px\n",
    "import hvplot.pandas\n",
    "from sklearn.preprocessing import StandardScaler, MinMaxScaler\n",
    "from sklearn.decomposition import PCA\n",
    "from sklearn.cluster import KMeans\n",
    "from pathlib import Path\n"
   ]
  },
  {
   "cell_type": "markdown",
   "metadata": {},
   "source": [
    "### Fetching Cryptocurrency Data"
   ]
  },
  {
   "cell_type": "code",
   "execution_count": null,
   "metadata": {},
   "outputs": [],
   "source": [
    "# Use the following endpoint to fetch json data\n",
    "url = \"https://min-api.cryptocompare.com/data/all/coinlist\"\n",
    "response = requests.get(url)\n",
    "print(response.status_code)\n",
    "crypto_content = response.json()\n",
    "print(crypto_content)\n",
    "print(type(crypto_content))\n",
    "# Note using this technique ran into an error below."
   ]
  },
  {
   "cell_type": "code",
   "execution_count": null,
   "metadata": {},
   "outputs": [],
   "source": [
    "# Read in the CSV file and create a DataFrame\n",
    "file_path = Path(\"Resources/crypto_data.csv\")\n",
    "crytpo_df = pd.read_csv(file_path, index_col=0)\n",
    "crytpo_df.isnull().sum()\n",
    "crytpo_df.head(25)\n"
   ]
  },
  {
   "cell_type": "markdown",
   "metadata": {},
   "source": [
    "### Data Preprocessing"
   ]
  },
  {
   "cell_type": "code",
   "execution_count": null,
   "metadata": {},
   "outputs": [],
   "source": [
    "# Keep only necessary columns:\n",
    "# 'CoinName','Algorithm','IsTrading','ProofType','TotalCoinsMined','TotalCoinSupply'\n",
    "# These columns are already in place.\n",
    "crytpo_df.tail(10)\n",
    "crytpo_df.shape"
   ]
  },
  {
   "cell_type": "code",
   "execution_count": null,
   "metadata": {},
   "outputs": [],
   "source": [
    "# Keep only cryptocurrencies that are trading\n",
    "no_trades = crytpo_df[crytpo_df['IsTrading'] == False ].index \n",
    "crytpo_df.drop(no_trades, inplace = True) \n",
    "crytpo_df.shape\n"
   ]
  },
  {
   "cell_type": "code",
   "execution_count": null,
   "metadata": {},
   "outputs": [],
   "source": [
    "# Keep only cryptocurrencies with a working algorithm\n",
    "crytpo_df.isnull().sum()\n",
    "# Note: there are no nulls under the algorthim column.\n"
   ]
  },
  {
   "cell_type": "code",
   "execution_count": null,
   "metadata": {},
   "outputs": [],
   "source": [
    "# Remove the 'IsTrading' column\n",
    "crytpo_df.drop(['IsTrading'], axis=1, inplace=True)\n",
    "crytpo_df.head(25)\n"
   ]
  },
  {
   "cell_type": "code",
   "execution_count": null,
   "metadata": {},
   "outputs": [],
   "source": [
    "# See how many nulls we have\n",
    "crytpo_df.isnull().sum()"
   ]
  },
  {
   "cell_type": "code",
   "execution_count": null,
   "metadata": {},
   "outputs": [],
   "source": [
    "# Remove rows with at least 1 null value\n",
    "crytpo_df.dropna(inplace=True)\n",
    "crytpo_df.count()"
   ]
  },
  {
   "cell_type": "code",
   "execution_count": null,
   "metadata": {},
   "outputs": [],
   "source": [
    "#See the new shape \n",
    "crytpo_df.shape"
   ]
  },
  {
   "cell_type": "code",
   "execution_count": null,
   "metadata": {},
   "outputs": [],
   "source": [
    "# Remove rows with cryptocurrencies having no coins mined\n",
    "no_mining = crytpo_df[crytpo_df['TotalCoinsMined'] == 0].index \n",
    "crytpo_df.drop(no_mining, inplace = True)  \n",
    "crytpo_df.shape\n"
   ]
  },
  {
   "cell_type": "code",
   "execution_count": null,
   "metadata": {},
   "outputs": [],
   "source": [
    "#See the datatypes\n",
    "crytpo_df.dtypes"
   ]
  },
  {
   "cell_type": "code",
   "execution_count": null,
   "metadata": {},
   "outputs": [],
   "source": [
    "#Convert TotalCoinSupply to float\n",
    "crytpo_df['TotalCoinSupply'] = crytpo_df['TotalCoinSupply'].astype('float')\n",
    "crytpo_df.dtypes"
   ]
  },
  {
   "cell_type": "code",
   "execution_count": null,
   "metadata": {},
   "outputs": [],
   "source": [
    "# Drop rows where there are 'N/A' text values\n",
    "\n",
    "blank_string1 = crytpo_df[crytpo_df['CoinName'] == \"N/A\"].index \n",
    "blank_string2 = crytpo_df[crytpo_df['Algorithm'] == \"N/A\"].index \n",
    "blank_string3 = crytpo_df[crytpo_df['ProofType'] == \"N/A\"].index \n",
    "crytpo_df.drop(blank_string1, inplace = True) \n",
    "crytpo_df.drop(blank_string2, inplace = True) \n",
    "crytpo_df.drop(blank_string3, inplace = True) \n",
    "crytpo_df.count()  \n",
    "#There are no \"N/A\" text values"
   ]
  },
  {
   "cell_type": "code",
   "execution_count": null,
   "metadata": {},
   "outputs": [],
   "source": [
    "# Store the 'CoinName'column in its own DataFrame prior to dropping it from crypto_df \n",
    "CoinName_df=crytpo_df[\"CoinName\"]\n",
    "CoinName_df.tail(10)"
   ]
  },
  {
   "cell_type": "code",
   "execution_count": null,
   "metadata": {},
   "outputs": [],
   "source": [
    "# Drop the 'CoinName' column since it's not going to be used on the clustering algorithm\n",
    "crytpo_df.drop(['CoinName'], axis=1, inplace=True)\n",
    "crytpo_df.count()"
   ]
  },
  {
   "cell_type": "code",
   "execution_count": null,
   "metadata": {},
   "outputs": [],
   "source": [
    "#Put a name to the index for crytpo_df\n",
    "crytpo_df = crytpo_df.rename_axis('CoinType')\n",
    "crytpo_df.head() "
   ]
  },
  {
   "cell_type": "code",
   "execution_count": null,
   "metadata": {},
   "outputs": [],
   "source": [
    "# Create dummy variables for text features\n",
    "X_df = pd.get_dummies(crytpo_df, columns=[\"Algorithm\", \"ProofType\"])\n",
    "X_df.head()"
   ]
  },
  {
   "cell_type": "code",
   "execution_count": null,
   "metadata": {},
   "outputs": [],
   "source": [
    "# Standardize data\n",
    "X_scaled = StandardScaler().fit_transform(X_df)\n",
    "print(X_scaled[0:3])\n"
   ]
  },
  {
   "cell_type": "markdown",
   "metadata": {},
   "source": [
    "### Reducing Dimensions Using PCA"
   ]
  },
  {
   "cell_type": "code",
   "execution_count": null,
   "metadata": {},
   "outputs": [],
   "source": [
    "# Use PCA to reduce dimensions to 3 principal components\n",
    "pca = PCA(n_components=3)\n",
    "X_pca = pca.fit_transform(X_scaled)"
   ]
  },
  {
   "cell_type": "code",
   "execution_count": null,
   "metadata": {},
   "outputs": [],
   "source": [
    "# Create a DataFrame with the principal components data\n",
    "pcs_df = pd.DataFrame(\n",
    "    data=X_pca, columns=[\"principal component 1\", \"principal component 2\", \"principal component 3\"]\n",
    ")\n",
    "pcs_df.count()\n",
    "pcs_df.head()"
   ]
  },
  {
   "cell_type": "code",
   "execution_count": null,
   "metadata": {},
   "outputs": [],
   "source": [
    "pcs_df[\"Coin\"]=crytpo_df.index\n",
    "pcs_df.set_index(\"Coin\", inplace=True)\n",
    "pcs_df.head()"
   ]
  },
  {
   "cell_type": "markdown",
   "metadata": {},
   "source": [
    "### Clustering Crytocurrencies Using K-Means\n",
    "\n",
    "#### Finding the Best Value for `k` Using the Elbow Curve"
   ]
  },
  {
   "cell_type": "code",
   "execution_count": null,
   "metadata": {},
   "outputs": [],
   "source": [
    "inertia = []\n",
    "k = list(range(1, 11))\n",
    "\n",
    "# Calculate the inertia for the range of k values\n",
    "for i in k:\n",
    "    km = KMeans(n_clusters=i, random_state=1)\n",
    "    km.fit(pcs_df)\n",
    "    inertia.append(km.inertia_)\n",
    "\n",
    "# Create the Elbow Curve using hvPlot\n",
    "elbow_data = {\"k\": k, \"inertia\": inertia}\n",
    "df_elbow = pd.DataFrame(elbow_data)\n",
    "df_elbow.hvplot.line(x=\"k\", y=\"inertia\", xticks=k, title=\"Elbow Curve\")\n"
   ]
  },
  {
   "cell_type": "markdown",
   "metadata": {},
   "source": [
    "Running K-Means with `k=<your best value for k here>`"
   ]
  },
  {
   "cell_type": "code",
   "execution_count": null,
   "metadata": {},
   "outputs": [],
   "source": [
    "# Initialize the K-Means model\n",
    "# Based on the shape of the elbow curve, 4 clusters is where the decline in inertia recedes meaningfully\n",
    "model = KMeans(n_clusters=4, random_state=1)\n",
    "# Fit the model\n",
    "model.fit(pcs_df)\n",
    "# Predict clusters\n",
    "predictions = model.predict(pcs_df)\n",
    "# Create a new DataFrame including predicted clusters and cryptocurrencies features\n",
    "pcs_df[\"class\"] = model.labels_\n",
    "pcs_df.head(20)\n",
    "clustered_df = pd.concat([pcs_df, crytpo_df], axis=\"columns\", join=\"inner\")\n",
    "\n",
    "\n",
    "clustered_df['CoinName'] = CoinName_df\n",
    "clustered_df = clustered_df[[\"Algorithm\", \"ProofType\", \"TotalCoinsMined\", \"TotalCoinSupply\",\n",
    "                             \"principal component 1\", \"principal component 2\", \"principal component 3\", \n",
    "                             \"CoinName\", \"class\"]]\n",
    "clustered_df.head()"
   ]
  },
  {
   "cell_type": "markdown",
   "metadata": {},
   "source": [
    "### Visualizing Results\n",
    "\n",
    "#### 3D-Scatter with Clusters"
   ]
  },
  {
   "cell_type": "code",
   "execution_count": null,
   "metadata": {},
   "outputs": [],
   "source": [
    "# Create a 3D-Scatter with the PCA data and the clusters\n",
    "fig = px.scatter_3d(\n",
    "    clustered_df,\n",
    "    x=\"principal component 3\",\n",
    "    y=\"principal component 2\",\n",
    "    z=\"principal component 1\",\n",
    "    title = \"Classifying Digital Currencies\",\n",
    "    hover_name=\"CoinName\",\n",
    "    hover_data=[\"Algorithm\"],\n",
    "    color=\"class\",\n",
    "    symbol=\"class\",\n",
    "    width=1000,\n",
    ")\n",
    "fig.update_layout(legend=dict(x=0, y=1))\n",
    "fig.show()"
   ]
  },
  {
   "cell_type": "markdown",
   "metadata": {},
   "source": [
    "#### Table of Tradable Cryptocurrencies"
   ]
  },
  {
   "cell_type": "code",
   "execution_count": null,
   "metadata": {},
   "outputs": [],
   "source": [
    "# Table with tradable cryptos\n",
    "clustered_df.hvplot.table(columns=['CoinName', 'Algorithm', 'ProofType', 'TotalCoinSupply', 'TotalCoinsMined', 'class'], sortable=True, selectable=True)\n"
   ]
  },
  {
   "cell_type": "code",
   "execution_count": null,
   "metadata": {},
   "outputs": [],
   "source": [
    "# Print the total number of tradable cryptocurrencies\n",
    "totalcoins = clustered_df['CoinName'].count()\n",
    "print(F\"There are {totalcoins} crytpocurrencies in circulation\")"
   ]
  },
  {
   "cell_type": "code",
   "execution_count": null,
   "metadata": {},
   "outputs": [],
   "source": [
    "#Create an index for clustered_df in order to concatenate properly with MMS_df (CREATED IN NEXT KERNEL)\n",
    "clustered_df.set_index(\"CoinName\", inplace=True)\n",
    "clustered_df.head()"
   ]
  },
  {
   "cell_type": "markdown",
   "metadata": {},
   "source": [
    "#### Scatter Plot with Tradable Cryptocurrencies"
   ]
  },
  {
   "cell_type": "code",
   "execution_count": null,
   "metadata": {},
   "outputs": [],
   "source": [
    "# First create a new dataframe with scaled data using MinMaxScaler   \n",
    "scaled_output = clustered_df[['TotalCoinsMined','TotalCoinSupply']]\n",
    "MMS =MinMaxScaler().fit_transform(scaled_output)\n",
    "#print(MMS[0:3])\n",
    "\n",
    "MMS_df = pd.DataFrame(\n",
    "    data=MMS, columns=[\"Scaled Coins Mined\", \"Scaled Coins Supply\"]\n",
    ")\n",
    "\n",
    "#Set index of MMS_df to \"Coin\"\n",
    "MMS_df[\"Coin\"]=clustered_df.index\n",
    "MMS_df.set_index(\"Coin\", inplace=True)\n",
    "MMS_df.head()"
   ]
  },
  {
   "cell_type": "code",
   "execution_count": null,
   "metadata": {},
   "outputs": [],
   "source": [
    "#Concatenate clustered_df with MMS_df\n",
    "new_clustered_df = pd.concat([clustered_df, MMS_df], axis=\"columns\", join=\"inner\")\n",
    "\n",
    "\n",
    "new_clustered_df = new_clustered_df.rename_axis('CoinType')\n",
    "new_clustered_df.head()\n",
    "#new_clustered_df.count()"
   ]
  },
  {
   "cell_type": "code",
   "execution_count": null,
   "metadata": {},
   "outputs": [],
   "source": [
    "#Create an HVplot table for new_clustered_df\n",
    "new_clustered_df.hvplot.table(columns=['CoinType','Scaled Coins Supply', 'TotalCoinSupply', 'Scaled Coins Mined','TotalCoinsMined', 'class'], sortable=True, selectable=True)"
   ]
  },
  {
   "cell_type": "code",
   "execution_count": null,
   "metadata": {},
   "outputs": [],
   "source": [
    "# Plot the scatter with x=\"TotalCoinsMined\" and y=\"TotalCoinSupply\" WITH UNSCALED DATA\n",
    "clustered_df.hvplot.scatter(x=\"TotalCoinsMined\", y=\"TotalCoinSupply\", by = \"class\", hover_cols=[\"CoinName\"], \n",
    "                            title = \"Tradeable Cryto Currencies\")"
   ]
  },
  {
   "cell_type": "code",
   "execution_count": null,
   "metadata": {},
   "outputs": [],
   "source": [
    "# Plot the scatter with x=\"TotalCoinsMined\" and y=\"TotalCoinSupply\" WITH SCALED DATA\n",
    "\n",
    "new_clustered_df.hvplot.scatter(x=\"Scaled Coins Mined\", y=\"Scaled Coins Supply\", by = \"class\", \n",
    "                                xlabel = \"Number of Coins Mined (Scaled)\", \n",
    "                                ylabel = \"Number of Coins in Supply (Scaled)\",\n",
    "                                hover_cols=[\"CoinName\"], \n",
    "                                title = \"Tradeable Cryto Currencies\",\n",
    "                                )"
   ]
  },
  {
   "cell_type": "code",
   "execution_count": null,
   "metadata": {},
   "outputs": [],
   "source": [
    "#Scatter plot with logaritmic axes\n",
    "new_clustered_df.hvplot.scatter(x=\"Scaled Coins Mined\", y=\"Scaled Coins Supply\", by = \"class\", \n",
    "                                xlabel = \"Number of Coins Mined (Scaled)\", \n",
    "                                ylabel = \"Number of Coins in Supply (Scaled)\",\n",
    "                                hover_cols=[\"CoinName\"], \n",
    "                                title = \"Tradeable Cryto Currencies\",\n",
    "                                logx=True, logy=True,\n",
    "                                ylim=(-0.5, 1.1),\n",
    "                                xlim=(-0.5, 1.1))"
   ]
  },
  {
   "cell_type": "code",
   "execution_count": null,
   "metadata": {},
   "outputs": [],
   "source": [
    "#new_clustered_df.hvplot.scatter(x=\"Scaled Coins Mined\", y=\"Scaled Coins Supply\", by = \"class\", \n",
    "                                #xlabel = \"Number of Coins Mined (Scaled)\", \n",
    "                                #ylabel = \"Number of Coins in Supply (Scaled)\",\n",
    "                                #hover_cols=[\"CoinName\"], \n",
    "                                #title = \"Tradeable Cryto Currencies\",\n",
    "                                #logx=True, logy=True)"
   ]
  }
 ],
 "metadata": {
  "file_extension": ".py",
  "kernelspec": {
   "display_name": "Python 3",
   "language": "python",
   "name": "python3"
  },
  "language_info": {
   "codemirror_mode": {
    "name": "ipython",
    "version": 3
   },
   "file_extension": ".py",
   "mimetype": "text/x-python",
   "name": "python",
   "nbconvert_exporter": "python",
   "pygments_lexer": "ipython3",
   "version": "3.7.9"
  },
  "mimetype": "text/x-python",
  "name": "python",
  "npconvert_exporter": "python",
  "pygments_lexer": "ipython3",
  "version": 3
 },
 "nbformat": 4,
 "nbformat_minor": 4
}
